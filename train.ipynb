{
 "cells": [
  {
   "cell_type": "markdown",
   "id": "082959b9-3e97-491d-ac48-4887085b196e",
   "metadata": {
    "tags": []
   },
   "source": [
    "open Terminal and clone repo\n",
    "git clone https://github.com/dounpct/soc-ml-api.git"
   ]
  },
  {
   "cell_type": "code",
   "execution_count": 7,
   "id": "7759f658-3e6e-43ce-8970-73246ebc1df9",
   "metadata": {},
   "outputs": [
    {
     "name": "stdout",
     "output_type": "stream",
     "text": [
      "Cloning into 'soc-ml-api'...\n",
      "remote: Enumerating objects: 75, done.\u001b[K\n",
      "remote: Counting objects: 100% (75/75), done.\u001b[K\n",
      "remote: Compressing objects: 100% (50/50), done.\u001b[K\n",
      "remote: Total 75 (delta 32), reused 62 (delta 19), pack-reused 0\u001b[K\n",
      "Receiving objects: 100% (75/75), 19.66 KiB | 6.55 MiB/s, done.\n",
      "Resolving deltas: 100% (32/32), done.\n"
     ]
    }
   ],
   "source": [
    "!git clone https://github.com/dounpct/soc-ml-api.git"
   ]
  },
  {
   "cell_type": "code",
   "execution_count": null,
   "id": "cabb4a26-e6e5-4dbb-ab9d-f4569d1ddb0b",
   "metadata": {},
   "outputs": [],
   "source": [
    "cd ~/soc-ml-api"
   ]
  },
  {
   "cell_type": "code",
   "execution_count": 2,
   "id": "70b5fbc4-f56c-4ff3-987d-5c0d4d084de2",
   "metadata": {},
   "outputs": [
    {
     "name": "stdout",
     "output_type": "stream",
     "text": [
      "\u001b[0m\u001b[01;34m'\"http:'\u001b[0m/     \u001b[01;34m__pycache__\u001b[0m/   python_env.yaml    server.py     train.py\n",
      " Dockerfile   conda.yaml     readme.md          serving.sh\n",
      " MLproject    \u001b[01;34mdata\u001b[0m/          requirements.txt   sharelib.py\n"
     ]
    }
   ],
   "source": [
    "ls"
   ]
  },
  {
   "cell_type": "code",
   "execution_count": 3,
   "id": "e4c14146-764b-41b9-a5ff-9263097a6636",
   "metadata": {},
   "outputs": [
    {
     "name": "stdout",
     "output_type": "stream",
     "text": [
      "Defaulting to user installation because normal site-packages is not writeable\n",
      "Requirement already satisfied: mlflow==2.1.1 in /home/jovyan/.local/lib/python3.9/site-packages (from -r requirements.txt (line 1)) (2.1.1)\n",
      "Requirement already satisfied: pathlib==1.0.1 in /home/jovyan/.local/lib/python3.9/site-packages (from -r requirements.txt (line 2)) (1.0.1)\n",
      "Requirement already satisfied: lz4==3.1.3 in /home/jovyan/.local/lib/python3.9/site-packages (from -r requirements.txt (line 3)) (3.1.3)\n",
      "Requirement already satisfied: psutil==5.9.0 in /home/jovyan/.local/lib/python3.9/site-packages (from -r requirements.txt (line 4)) (5.9.0)\n",
      "Requirement already satisfied: typing-extensions==4.3.0 in /home/jovyan/.local/lib/python3.9/site-packages (from -r requirements.txt (line 5)) (4.3.0)\n",
      "Requirement already satisfied: cloudpickle==2.2.1 in /home/jovyan/.local/lib/python3.9/site-packages (from -r requirements.txt (line 6)) (2.2.1)\n",
      "Requirement already satisfied: packaging<23 in /usr/local/lib/python3.9/site-packages (from mlflow==2.1.1->-r requirements.txt (line 1)) (21.3)\n",
      "Requirement already satisfied: databricks-cli<1,>=0.8.7 in /home/jovyan/.local/lib/python3.9/site-packages (from mlflow==2.1.1->-r requirements.txt (line 1)) (0.17.6)\n",
      "Requirement already satisfied: markdown<4,>=3.3 in /home/jovyan/.local/lib/python3.9/site-packages (from mlflow==2.1.1->-r requirements.txt (line 1)) (3.4.3)\n",
      "Requirement already satisfied: entrypoints<1 in /usr/local/lib/python3.9/site-packages (from mlflow==2.1.1->-r requirements.txt (line 1)) (0.4)\n",
      "Requirement already satisfied: pytz<2023 in /usr/local/lib/python3.9/site-packages (from mlflow==2.1.1->-r requirements.txt (line 1)) (2022.2.1)\n",
      "Requirement already satisfied: alembic<2 in /usr/local/lib/python3.9/site-packages (from mlflow==2.1.1->-r requirements.txt (line 1)) (1.8.1)\n",
      "Requirement already satisfied: sqlparse<1,>=0.4.0 in /home/jovyan/.local/lib/python3.9/site-packages (from mlflow==2.1.1->-r requirements.txt (line 1)) (0.4.3)\n",
      "Requirement already satisfied: querystring-parser<2 in /home/jovyan/.local/lib/python3.9/site-packages (from mlflow==2.1.1->-r requirements.txt (line 1)) (1.2.4)\n",
      "Requirement already satisfied: Jinja2<4,>=2.11 in /usr/local/lib/python3.9/site-packages (from mlflow==2.1.1->-r requirements.txt (line 1)) (3.1.2)\n",
      "Requirement already satisfied: importlib-metadata!=4.7.0,<6,>=3.7.0 in /usr/local/lib/python3.9/site-packages (from mlflow==2.1.1->-r requirements.txt (line 1)) (4.12.0)\n",
      "Requirement already satisfied: pyarrow<11,>=4.0.0 in /home/jovyan/.local/lib/python3.9/site-packages (from mlflow==2.1.1->-r requirements.txt (line 1)) (10.0.1)\n",
      "Requirement already satisfied: docker<7,>=4.0.0 in /home/jovyan/.local/lib/python3.9/site-packages (from mlflow==2.1.1->-r requirements.txt (line 1)) (6.0.1)\n",
      "Requirement already satisfied: shap<1,>=0.40 in /home/jovyan/.local/lib/python3.9/site-packages (from mlflow==2.1.1->-r requirements.txt (line 1)) (0.41.0)\n",
      "Requirement already satisfied: click<9,>=7.0 in /home/jovyan/.local/lib/python3.9/site-packages (from mlflow==2.1.1->-r requirements.txt (line 1)) (8.1.3)\n",
      "Requirement already satisfied: scipy<2 in /home/jovyan/.local/lib/python3.9/site-packages (from mlflow==2.1.1->-r requirements.txt (line 1)) (1.10.1)\n",
      "Requirement already satisfied: gitpython<4,>=2.1.0 in /home/jovyan/.local/lib/python3.9/site-packages (from mlflow==2.1.1->-r requirements.txt (line 1)) (3.1.31)\n",
      "Requirement already satisfied: scikit-learn<2 in /home/jovyan/.local/lib/python3.9/site-packages (from mlflow==2.1.1->-r requirements.txt (line 1)) (1.2.2)\n",
      "Requirement already satisfied: pandas<2 in /home/jovyan/.local/lib/python3.9/site-packages (from mlflow==2.1.1->-r requirements.txt (line 1)) (1.5.3)\n",
      "Requirement already satisfied: pyyaml<7,>=5.1 in /home/jovyan/.local/lib/python3.9/site-packages (from mlflow==2.1.1->-r requirements.txt (line 1)) (6.0)\n",
      "Requirement already satisfied: requests<3,>=2.17.3 in /usr/local/lib/python3.9/site-packages (from mlflow==2.1.1->-r requirements.txt (line 1)) (2.28.1)\n",
      "Requirement already satisfied: sqlalchemy<2,>=1.4.0 in /usr/local/lib/python3.9/site-packages (from mlflow==2.1.1->-r requirements.txt (line 1)) (1.4.41)\n",
      "Requirement already satisfied: gunicorn<21 in /home/jovyan/.local/lib/python3.9/site-packages (from mlflow==2.1.1->-r requirements.txt (line 1)) (20.1.0)\n",
      "Requirement already satisfied: protobuf<5,>=3.12.0 in /home/jovyan/.local/lib/python3.9/site-packages (from mlflow==2.1.1->-r requirements.txt (line 1)) (4.22.3)\n",
      "Requirement already satisfied: numpy<2 in /home/jovyan/.local/lib/python3.9/site-packages (from mlflow==2.1.1->-r requirements.txt (line 1)) (1.23.5)\n",
      "Requirement already satisfied: Flask<3 in /home/jovyan/.local/lib/python3.9/site-packages (from mlflow==2.1.1->-r requirements.txt (line 1)) (2.2.3)\n",
      "Requirement already satisfied: matplotlib<4 in /home/jovyan/.local/lib/python3.9/site-packages (from mlflow==2.1.1->-r requirements.txt (line 1)) (3.7.1)\n",
      "Requirement already satisfied: Mako in /usr/local/lib/python3.9/site-packages (from alembic<2->mlflow==2.1.1->-r requirements.txt (line 1)) (1.2.2)\n",
      "Requirement already satisfied: pyjwt>=1.7.0 in /home/jovyan/.local/lib/python3.9/site-packages (from databricks-cli<1,>=0.8.7->mlflow==2.1.1->-r requirements.txt (line 1)) (2.6.0)\n",
      "Requirement already satisfied: oauthlib>=3.1.0 in /usr/local/lib/python3.9/site-packages (from databricks-cli<1,>=0.8.7->mlflow==2.1.1->-r requirements.txt (line 1)) (3.2.0)\n",
      "Requirement already satisfied: six>=1.10.0 in /usr/local/lib/python3.9/site-packages (from databricks-cli<1,>=0.8.7->mlflow==2.1.1->-r requirements.txt (line 1)) (1.16.0)\n",
      "Requirement already satisfied: tabulate>=0.7.7 in /home/jovyan/.local/lib/python3.9/site-packages (from databricks-cli<1,>=0.8.7->mlflow==2.1.1->-r requirements.txt (line 1)) (0.9.0)\n",
      "Requirement already satisfied: websocket-client>=0.32.0 in /usr/local/lib/python3.9/site-packages (from docker<7,>=4.0.0->mlflow==2.1.1->-r requirements.txt (line 1)) (1.4.1)\n",
      "Requirement already satisfied: urllib3>=1.26.0 in /usr/local/lib/python3.9/site-packages (from docker<7,>=4.0.0->mlflow==2.1.1->-r requirements.txt (line 1)) (1.26.12)\n",
      "Requirement already satisfied: itsdangerous>=2.0 in /home/jovyan/.local/lib/python3.9/site-packages (from Flask<3->mlflow==2.1.1->-r requirements.txt (line 1)) (2.1.2)\n",
      "Requirement already satisfied: Werkzeug>=2.2.2 in /home/jovyan/.local/lib/python3.9/site-packages (from Flask<3->mlflow==2.1.1->-r requirements.txt (line 1)) (2.2.3)\n",
      "Requirement already satisfied: gitdb<5,>=4.0.1 in /home/jovyan/.local/lib/python3.9/site-packages (from gitpython<4,>=2.1.0->mlflow==2.1.1->-r requirements.txt (line 1)) (4.0.10)\n",
      "Requirement already satisfied: setuptools>=3.0 in /usr/local/lib/python3.9/site-packages (from gunicorn<21->mlflow==2.1.1->-r requirements.txt (line 1)) (58.1.0)\n",
      "Requirement already satisfied: zipp>=0.5 in /usr/local/lib/python3.9/site-packages (from importlib-metadata!=4.7.0,<6,>=3.7.0->mlflow==2.1.1->-r requirements.txt (line 1)) (3.8.1)\n",
      "Requirement already satisfied: MarkupSafe>=2.0 in /usr/local/lib/python3.9/site-packages (from Jinja2<4,>=2.11->mlflow==2.1.1->-r requirements.txt (line 1)) (2.1.1)\n",
      "Requirement already satisfied: importlib-resources>=3.2.0 in /home/jovyan/.local/lib/python3.9/site-packages (from matplotlib<4->mlflow==2.1.1->-r requirements.txt (line 1)) (5.12.0)\n",
      "Requirement already satisfied: python-dateutil>=2.7 in /usr/local/lib/python3.9/site-packages (from matplotlib<4->mlflow==2.1.1->-r requirements.txt (line 1)) (2.8.2)\n",
      "Requirement already satisfied: pyparsing>=2.3.1 in /usr/local/lib/python3.9/site-packages (from matplotlib<4->mlflow==2.1.1->-r requirements.txt (line 1)) (3.0.9)\n",
      "Requirement already satisfied: fonttools>=4.22.0 in /home/jovyan/.local/lib/python3.9/site-packages (from matplotlib<4->mlflow==2.1.1->-r requirements.txt (line 1)) (4.39.3)\n",
      "Requirement already satisfied: kiwisolver>=1.0.1 in /home/jovyan/.local/lib/python3.9/site-packages (from matplotlib<4->mlflow==2.1.1->-r requirements.txt (line 1)) (1.4.4)\n",
      "Requirement already satisfied: cycler>=0.10 in /home/jovyan/.local/lib/python3.9/site-packages (from matplotlib<4->mlflow==2.1.1->-r requirements.txt (line 1)) (0.11.0)\n",
      "Requirement already satisfied: pillow>=6.2.0 in /home/jovyan/.local/lib/python3.9/site-packages (from matplotlib<4->mlflow==2.1.1->-r requirements.txt (line 1)) (9.5.0)\n",
      "Requirement already satisfied: contourpy>=1.0.1 in /home/jovyan/.local/lib/python3.9/site-packages (from matplotlib<4->mlflow==2.1.1->-r requirements.txt (line 1)) (1.0.7)\n",
      "Requirement already satisfied: charset-normalizer<3,>=2 in /usr/local/lib/python3.9/site-packages (from requests<3,>=2.17.3->mlflow==2.1.1->-r requirements.txt (line 1)) (2.1.1)\n",
      "Requirement already satisfied: idna<4,>=2.5 in /usr/local/lib/python3.9/site-packages (from requests<3,>=2.17.3->mlflow==2.1.1->-r requirements.txt (line 1)) (3.3)\n",
      "Requirement already satisfied: certifi>=2017.4.17 in /usr/local/lib/python3.9/site-packages (from requests<3,>=2.17.3->mlflow==2.1.1->-r requirements.txt (line 1)) (2022.6.15.1)\n",
      "Requirement already satisfied: joblib>=1.1.1 in /home/jovyan/.local/lib/python3.9/site-packages (from scikit-learn<2->mlflow==2.1.1->-r requirements.txt (line 1)) (1.2.0)\n",
      "Requirement already satisfied: threadpoolctl>=2.0.0 in /home/jovyan/.local/lib/python3.9/site-packages (from scikit-learn<2->mlflow==2.1.1->-r requirements.txt (line 1)) (3.1.0)\n",
      "Requirement already satisfied: numba in /home/jovyan/.local/lib/python3.9/site-packages (from shap<1,>=0.40->mlflow==2.1.1->-r requirements.txt (line 1)) (0.56.4)\n",
      "Requirement already satisfied: slicer==0.0.7 in /home/jovyan/.local/lib/python3.9/site-packages (from shap<1,>=0.40->mlflow==2.1.1->-r requirements.txt (line 1)) (0.0.7)\n",
      "Requirement already satisfied: tqdm>4.25.0 in /home/jovyan/.local/lib/python3.9/site-packages (from shap<1,>=0.40->mlflow==2.1.1->-r requirements.txt (line 1)) (4.65.0)\n",
      "Requirement already satisfied: greenlet!=0.4.17 in /usr/local/lib/python3.9/site-packages (from sqlalchemy<2,>=1.4.0->mlflow==2.1.1->-r requirements.txt (line 1)) (1.1.3)\n",
      "Requirement already satisfied: smmap<6,>=3.0.1 in /home/jovyan/.local/lib/python3.9/site-packages (from gitdb<5,>=4.0.1->gitpython<4,>=2.1.0->mlflow==2.1.1->-r requirements.txt (line 1)) (5.0.0)\n",
      "Requirement already satisfied: llvmlite<0.40,>=0.39.0dev0 in /home/jovyan/.local/lib/python3.9/site-packages (from numba->shap<1,>=0.40->mlflow==2.1.1->-r requirements.txt (line 1)) (0.39.1)\n",
      "\u001b[33mWARNING: You are using pip version 22.0.4; however, version 23.0.1 is available.\n",
      "You should consider upgrading via the '/usr/local/bin/python -m pip install --upgrade pip' command.\u001b[0m\u001b[33m\n",
      "\u001b[0mNote: you may need to restart the kernel to use updated packages.\n"
     ]
    }
   ],
   "source": [
    "pip install -r requirements.txt"
   ]
  },
  {
   "cell_type": "code",
   "execution_count": 4,
   "id": "aa660af1-e889-48eb-b5fb-6604b29f45c5",
   "metadata": {},
   "outputs": [
    {
     "name": "stdout",
     "output_type": "stream",
     "text": [
      "env: MLFLOW_TRACKING_URI=http://34.87.0.150:5000\n"
     ]
    }
   ],
   "source": [
    "%set_env MLFLOW_TRACKING_URI=http://34.87.0.150:5000"
   ]
  },
  {
   "cell_type": "raw",
   "id": "0fa916ba-b023-4580-a2ab-d094d3a33593",
   "metadata": {},
   "source": [
    "upload file firewall-traffic.csv into folder data\n",
    "please check file exist."
   ]
  },
  {
   "cell_type": "code",
   "execution_count": null,
   "id": "52ed48c6-c622-4db3-92aa-7af65f96a040",
   "metadata": {},
   "outputs": [],
   "source": [
    "!tail ./data/firewall-traffic.csv"
   ]
  },
  {
   "cell_type": "code",
   "execution_count": 6,
   "id": "84af701e-4af7-43e2-a435-3dab3a2c44e2",
   "metadata": {},
   "outputs": [
    {
     "name": "stdout",
     "output_type": "stream",
     "text": [
      "/home/jovyan/soc-ml-api/train.py:33: DtypeWarning: Columns (6,7,12,13,22,23,32,33,44,45,58,59,61,64,69,70) have mixed types. Specify dtype option on import or set low_memory=False.\n",
      "  df = pd.read_csv(\"data/firewall-traffic.csv\")\n",
      "---------- df_categories ---------\n",
      "---------------------\n",
      "X_train shape is: (19869, 44)\n",
      "y_train shape is: (19869,)\n",
      "X_test shape is: (201, 44)\n",
      "y_test shape is: (201,)\n",
      "Train set accuracy = 1.0\n",
      "Test set accuracy = 1.0\n",
      "Artifact Location: mlflow-artifacts:/5\n",
      "artifact uri : mlflow-artifacts:/5/0b29608af7064a228cf4552f50c91cd4/artifacts\n",
      "\u001b[34mSystem information\u001b[0m: Linux #1 SMP Thu Jan 5 22:49:42 UTC 2023\n",
      "\u001b[34mPython version\u001b[0m: 3.9.14\n",
      "\u001b[34mMLflow version\u001b[0m: 2.1.1\n",
      "\u001b[34mMLflow module location\u001b[0m: /home/jovyan/.local/lib/python3.9/site-packages/mlflow/__init__.py\n",
      "\u001b[34mTracking URI\u001b[0m: http://34.87.0.150:5000\n",
      "\u001b[34mRegistry URI\u001b[0m: http://34.87.0.150:5000\n",
      "\u001b[34mActive experiment ID\u001b[0m: 5\n",
      "\u001b[34mActive run ID\u001b[0m: 0b29608af7064a228cf4552f50c91cd4\n",
      "\u001b[34mActive run artifact URI\u001b[0m: mlflow-artifacts:/5/0b29608af7064a228cf4552f50c91cd4/artifacts\n",
      "\u001b[34mMLflow environment variables\u001b[0m: \n",
      "  MLFLOW_TRACKING_URI: http://34.87.0.150:5000\n",
      "\u001b[34mMLflow dependencies\u001b[0m: \n",
      "  Flask: 2.2.3\n",
      "  Jinja2: 3.1.2\n",
      "  alembic: 1.8.1\n",
      "  click: 8.1.3\n",
      "  cloudpickle: 2.2.1\n",
      "  databricks-cli: 0.17.6\n",
      "  docker: 6.0.1\n",
      "  entrypoints: 0.4\n",
      "  gitpython: 3.1.31\n",
      "  gunicorn: 20.1.0\n",
      "  importlib-metadata: 4.12.0\n",
      "  markdown: 3.4.3\n",
      "  matplotlib: 3.7.1\n",
      "  numpy: 1.23.5\n",
      "  packaging: 21.3\n",
      "  pandas: 1.5.3\n",
      "  protobuf: 4.22.3\n",
      "  pyarrow: 10.0.1\n",
      "  pytz: 2022.2.1\n",
      "  pyyaml: 6.0\n",
      "  querystring-parser: 1.2.4\n",
      "  requests: 2.28.1\n",
      "  scikit-learn: 1.2.2\n",
      "  scipy: 1.10.1\n",
      "  shap: 0.41.0\n",
      "  sqlalchemy: 1.4.41\n",
      "  sqlparse: 0.4.3\n",
      "Registered model 'soc-ml' already exists. Creating a new version of this model...\n",
      "2023/04/14 08:49:34 INFO mlflow.tracking._model_registry.client: Waiting up to 300 seconds for model version to finish creation.                     Model name: soc-ml, version 22\n",
      "Created version '22' of model 'soc-ml'.\n",
      "Model saved in run 0b29608af7064a228cf4552f50c91cd4\n"
     ]
    }
   ],
   "source": [
    "!python train.py"
   ]
  },
  {
   "cell_type": "code",
   "execution_count": null,
   "id": "1bc325e2-f050-4344-89c9-ce4562ee94d8",
   "metadata": {},
   "outputs": [],
   "source": []
  }
 ],
 "metadata": {
  "kernelspec": {
   "display_name": "Python 3 (ipykernel)",
   "language": "python",
   "name": "python3"
  },
  "language_info": {
   "codemirror_mode": {
    "name": "ipython",
    "version": 3
   },
   "file_extension": ".py",
   "mimetype": "text/x-python",
   "name": "python",
   "nbconvert_exporter": "python",
   "pygments_lexer": "ipython3",
   "version": "3.9.7"
  }
 },
 "nbformat": 4,
 "nbformat_minor": 5
}
